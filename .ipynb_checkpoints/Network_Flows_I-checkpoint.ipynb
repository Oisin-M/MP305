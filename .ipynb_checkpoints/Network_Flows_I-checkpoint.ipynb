{
 "cells": [
  {
   "cell_type": "markdown",
   "metadata": {},
   "source": [
    "# MP305 Network Flow Models I - Michael Tuite"
   ]
  },
  {
   "cell_type": "markdown",
   "metadata": {},
   "source": [
    "## Overview \n",
    "\n",
    "This file contains a number of Python functions for finding the maximal flow through a network $G$ subject to minimal cost using the Ford Fulkerson Algorithm.\n",
    "\n",
    "The network graph $G$ is stored in a set `G` of two element tuples `(i,j)` describing the directed arcs $(i,j)$ of $G$.\n",
    "\n",
    "It is assumed that node number $1$ is the source and the greatest node `Nsink` is the sink.  \n",
    "Thus `G={(1,2),(2,3),(1,3)}`  describes a network with 3 nodes where node 1 is the source and node 3 is the sink.\n",
    "\n",
    "The capacity, flow and cost of the arc `(i,j)` of `G` are stored in `c[i][j]`, `phi[i][j]` and `l[i][j]`. \n",
    "Here `c`, `phi` and `l` are Python lists.\n",
    "\n",
    "## Python Functions\n",
    "### The `Initialise(G)` function\n",
    "Having defined the network `G`, initialise `c`, `phi` and `l` values to zero via the `Initialise` function before defining their values in any particular example.  The global variable `Nsink`,  the sink node of `G`, is also found by the `Initialise` function .\n",
    "\n",
    "### The main `Iterate(G)`function \n",
    "This implements the full algorithm to find the maximum flow with minimal cost. "
   ]
  },
  {
   "cell_type": "code",
   "execution_count": null,
   "metadata": {},
   "outputs": [],
   "source": []
  },
  {
   "cell_type": "markdown",
   "metadata": {},
   "source": [
    "## The `Iterate(G)` function is based on a number of other Python functions:\n",
    "\n",
    "### `Flows(G)` \n",
    "This checks for conservation of flow and prints out all of the current flows for G and the total cost of this flow. \n",
    "\n",
    "###  `Links(G)`\n",
    "This finds all arcs `(i,j1)`, ` (i,j2)`,  ... *out* of node `i` of `G`.  The nodes `j1,j2,..` are stored in a global list of sets `Out`.\n",
    "\n",
    "###  `SourceSink(G)`\n",
    "This finds all of the paths from source to sink in any network `G` and results in a global set `SinkPaths` of such paths.\n",
    "\n",
    "###  `IncremNet(G)`\n",
    "This finds the Incremental Network `Gp` associated with the current flow of the network `G`.\n",
    "\n",
    "###  `Newflows(G)`\n",
    "This updates the flows `phi` of `G` according to the best chain found through `Gp`. If the maximal flow is reached, then this is indicated and the maximum flow value is outputed. Otherwise, the output is: the change in flow (`eps`), the cost of the best chain, and the best chain.\n",
    "\n",
    "###  `Iterate(G)`\n",
    "Implements the full algorithm to find the maximum flow with minimal cost. \n",
    "The output is as follows:\n",
    "\n",
    "(1) The incremental network `Gp`.\n",
    "\n",
    "(2) The paths through `Gp` from source to sink. \n",
    "\n",
    "(3) The output of `Newflows(G)`. \n",
    "\n",
    "(4) The output of `Flows(G)` giving the current flows and cost of `G`.\n"
   ]
  },
  {
   "cell_type": "code",
   "execution_count": null,
   "metadata": {},
   "outputs": [],
   "source": []
  },
  {
   "cell_type": "code",
   "execution_count": 1,
   "metadata": {},
   "outputs": [],
   "source": [
    "def Initialise (Gin):\n",
    "    global c,phi,l,cp,lp,Nsink\n",
    "    Nsink=1\n",
    "    for arc in Gin:\n",
    "        i,j=arc\n",
    "        Nsink=max(Nsink,i,j)\n",
    "    # for convenience c[i][j] is capacity of arc [i,j]\n",
    "    c=[[0 for i in range(Nsink+1)] for j in range(Nsink+1)]\n",
    "    phi=[[0 for i in range(Nsink+1)] for j in range(Nsink+1)]\n",
    "    l=[[0 for i in range(Nsink+1)] for j in range(Nsink+1)]\n",
    "    cp=[[0 for i in range(Nsink+1)] for j in range(Nsink+1)]\n",
    "    lp=[[0 for i in range(Nsink+1)] for j in range(Nsink+1)]\n",
    "    print(\"All values of c,phi and l initialised to zero\")\n"
   ]
  },
  {
   "cell_type": "code",
   "execution_count": 2,
   "metadata": {},
   "outputs": [],
   "source": [
    "def Flows (Gin):\n",
    "    global Nsink,l,phi\n",
    "    Flowin=[0 for i in range(Nsink+1)]\n",
    "    Flowout=[0 for i in range(Nsink+1)]\n",
    "    for arc in Gin:\n",
    "        i,j=arc\n",
    "        Flowin[j] = Flowin[j] + phi[i][j]\n",
    "        Flowout[i] = Flowout[i] + phi[i][j]\n",
    "    for k in range(2,Nsink):\n",
    "        if Flowin[k] != Flowout[k]:\n",
    "            print(\"*** ERROR *** Flow not conserved at node\", k)\n",
    "    if Flowout[1] != Flowin[Nsink]:\n",
    "        print(\"*** ERROR *** Flow not conserved at source or sink\")\n",
    "    Totalcost = 0\n",
    "    for arc in G:\n",
    "        i,j=arc\n",
    "        phi_ij = phi[i][j]\n",
    "        Totalcost = Totalcost + l[i][j]*phi_ij\n",
    "        print(arc,\" has flow \",phi_ij)\n",
    "    print(\"Total Cost is \", Totalcost)\n"
   ]
  },
  {
   "cell_type": "code",
   "execution_count": 3,
   "metadata": {},
   "outputs": [],
   "source": [
    "def Links (Gin):\n",
    "    global Nsink,Out\n",
    "    Out=[set() for k in range(Nsink)] # labelled 0..Nsink-1\n",
    "    for arc in Gin:\n",
    "        i,j = arc\n",
    "        Out[i - 1] = Out[i - 1] | set([j])"
   ]
  },
  {
   "cell_type": "code",
   "execution_count": 4,
   "metadata": {},
   "outputs": [],
   "source": [
    "def SourceSink(Gin):\n",
    "# finds all paths SinkPaths from source 1 to sink Nsink of network G \n",
    "    global Nsink,SinkPaths\n",
    "    Links(Gin)\n",
    "    Paths = set() # current paths from source stored as set of tuples\n",
    "    SinkPaths = set() # paths from source to sink Nsink stored as set of tuples\n",
    "    path = 1 # source node label\n",
    "    for node in Out[0]:# need out edge from node 1\n",
    "        pathn = (path,node)\n",
    "        if node == Nsink:\n",
    "            SinkPaths = SinkPaths | set([pathn])\n",
    "        else:\n",
    "            Paths = Paths | set([pathn])\n",
    "    Npaths = len(Paths)\n",
    "    while (0 < Npaths):\n",
    "        NewPaths = set()\n",
    "        for oldpath in Paths:\n",
    "            nold = len(oldpath)\n",
    "            m = oldpath[-1] # last node in tuple oldpath\n",
    "            for mout in Out[m-1]:\n",
    "                if not mout in oldpath:\n",
    "                    if mout == Nsink:\n",
    "                        SinkPaths = SinkPaths | set([oldpath+tuple([Nsink])])\n",
    "                    else:\n",
    "                        NewPaths = NewPaths | set([oldpath+tuple([mout])])\n",
    "        Paths = NewPaths\n",
    "        Npaths = len(Paths)\n",
    "    print(\"Paths from source to sink: \",SinkPaths)"
   ]
  },
  {
   "cell_type": "code",
   "execution_count": 5,
   "metadata": {},
   "outputs": [],
   "source": [
    "def IncremNet(Gin):\n",
    "# procedure to create incremental network Gp from given flow network G \n",
    "    global Gp,Nsink,phi,c,l,cp,lp,ArcSign\n",
    "# define lists for ArcSign, cp and lp  (indexed by 0..Nsink-1)\n",
    "    cp=[[0 for i in range(Nsink+1)] for j in range(Nsink+1)]\n",
    "    lp=[[0 for i in range(Nsink+1)] for j in range(Nsink+1)]\n",
    "    ArcSign=[[0 for i in range(Nsink+1)] for j in range(Nsink+1)]\n",
    "    Gp=set([])\n",
    "    for arc in Gin:\n",
    "        i,j=arc\n",
    "        pij = phi[i][j]; pji = phi[j][i]; cij = c[i][j]; lij = l[i][j]\n",
    "        if (pij < cij and (pji == 0 or not (j,i) in Gin)): # ij arc\n",
    "            #Gp edges, capacitites and costs added\n",
    "            cpij = cij - pij; cp[i][j] = cpij; lpij = lij; lp[i][j] =lpij\n",
    "            ArcSign[i][j] = 1\n",
    "            Gp=Gp | {(i,j)}\n",
    "        if pij>0: # ji arc\n",
    "            cpji = pij; cp[j][i] = cpji; lpji=-lij; lp[j][i] = lpji\n",
    "            ArcSign[j][i] = -1\n",
    "            Gp=Gp | {(j,i)}\n",
    "    print(\"Incremental Network:\",Gp)"
   ]
  },
  {
   "cell_type": "code",
   "execution_count": 6,
   "metadata": {},
   "outputs": [],
   "source": [
    "def Newflows(Gin):\n",
    "# A procedure to modify original flows on Gin along SinkPaths of Gp with minimal cost\n",
    "    global Gp,phi,c,l,cp,lp,ArcSign,Out\n",
    "    SourceSink(Gp)\n",
    "    if SinkPaths == set():\n",
    "        Links(Gin)\n",
    "        Flow = 0\n",
    "        for node in Out[0]:\n",
    "            Flow = Flow + phi[1][node]\n",
    "        Cost=0\n",
    "        for arc in Gin:\n",
    "            i,j=arc\n",
    "            Cost=Cost+l[i][j]*phi[i][j]\n",
    "        print(\"Maximal flow found:\", Flow, \" with minimal cost \", Cost)\n",
    "    else:\n",
    "        for k in range(len(SinkPaths)):\n",
    "            cost = 0\n",
    "            epset = set()\n",
    "            path=list(SinkPaths)[k]\n",
    "            for n in range(0, len(path)-1):\n",
    "                i = path[n]; j = path[n+1];  epset = epset | set([cp[i][j]]); cost = lp[i][j] + cost\n",
    "            eps = min(tuple(epset))\n",
    "            if k == 0: # first path\n",
    "                mincost = cost; bestpath = path; besteps = eps\n",
    "            elif cost < mincost: \n",
    "                mincost = cost; bestpath = path; besteps = eps\n",
    "        print(\"A best path in Gp is \", bestpath, \" of minimum cost \", mincost)\n",
    "        print(\"The min capacity on this path is epsilon \", eps)\n",
    "        print(\"The min cost is \", mincost)\n",
    "        for k in range(0, len(bestpath) - 1):\n",
    "            i = bestpath[k]; j = bestpath[k+1]\n",
    "            if ArcSign[i][j] == 1:\n",
    "                phinewij = phi[i][j] + besteps; phi[i][j]=phinewij\n",
    "            else:\n",
    "                phinewji=phi[j][i] = phi[j][i] - besteps; phi[j][i]=phinewji\n",
    "    #print(\"Flow=\",Flow)"
   ]
  },
  {
   "cell_type": "code",
   "execution_count": 7,
   "metadata": {},
   "outputs": [],
   "source": [
    "def Iterate(Gin):\n",
    "    IncremNet(Gin)\n",
    "    Newflows(Gin)\n",
    "    for arc in Gin:\n",
    "        i,j=arc\n",
    "        print((i,j),\" flow = \", phi[i][j])"
   ]
  },
  {
   "cell_type": "markdown",
   "metadata": {},
   "source": [
    "# Example 1. This is the first example discussed in lectures.\n",
    "\n",
    "## Define `G` and initialise all capacity, flow, cost values to zero  \n"
   ]
  },
  {
   "cell_type": "code",
   "execution_count": 8,
   "metadata": {},
   "outputs": [],
   "source": [
    "G={(1,2),(1,3),(2,3),(2,4),(2,5),(3,5),(4,6),(5,4),(5,6)}"
   ]
  },
  {
   "cell_type": "code",
   "execution_count": 9,
   "metadata": {},
   "outputs": [
    {
     "name": "stdout",
     "output_type": "stream",
     "text": [
      "All values of c,phi and l initialised to zero\n"
     ]
    }
   ],
   "source": [
    "Initialise (G)"
   ]
  },
  {
   "cell_type": "code",
   "execution_count": 10,
   "metadata": {},
   "outputs": [
    {
     "name": "stdout",
     "output_type": "stream",
     "text": [
      "(1, 2)  has flow  0\n",
      "(5, 4)  has flow  0\n",
      "(1, 3)  has flow  0\n",
      "(4, 6)  has flow  0\n",
      "(5, 6)  has flow  0\n",
      "(2, 3)  has flow  0\n",
      "(2, 5)  has flow  0\n",
      "(2, 4)  has flow  0\n",
      "(3, 5)  has flow  0\n",
      "Total Cost is  0\n"
     ]
    }
   ],
   "source": [
    "Flows(G)"
   ]
  },
  {
   "cell_type": "markdown",
   "metadata": {},
   "source": [
    "## Define Capacities"
   ]
  },
  {
   "cell_type": "code",
   "execution_count": 11,
   "metadata": {},
   "outputs": [],
   "source": [
    "c[1][2] = 4; c[1][3] = 5; c[2][3] = 2  \n",
    "c[2][4] = 1; c[2][5] = 4; c[3][5] = 3  \n",
    "c[4][6] = 2; c[5][4] = 2; c[5][6] = 6"
   ]
  },
  {
   "cell_type": "markdown",
   "metadata": {},
   "source": [
    "## Define Flows"
   ]
  },
  {
   "cell_type": "code",
   "execution_count": 12,
   "metadata": {},
   "outputs": [],
   "source": [
    "phi[1][2]=4; phi[1][3]=1; phi[2][3]=2; phi[2][4]=1; phi[2][5]=1\n",
    "phi[3][5]=3; phi[4][6]=2; phi[5][4]=1; phi[5][6]=3"
   ]
  },
  {
   "cell_type": "code",
   "execution_count": 13,
   "metadata": {},
   "outputs": [
    {
     "name": "stdout",
     "output_type": "stream",
     "text": [
      "(1, 2)  has flow  4\n",
      "(5, 4)  has flow  1\n",
      "(1, 3)  has flow  1\n",
      "(4, 6)  has flow  2\n",
      "(5, 6)  has flow  3\n",
      "(2, 3)  has flow  2\n",
      "(2, 5)  has flow  1\n",
      "(2, 4)  has flow  1\n",
      "(3, 5)  has flow  3\n",
      "Total Cost is  0\n"
     ]
    }
   ],
   "source": [
    "Flows(G)"
   ]
  },
  {
   "cell_type": "markdown",
   "metadata": {},
   "source": [
    "## Use `Iterate` to run one iteration of the Ford Fulkerson Algorithm"
   ]
  },
  {
   "cell_type": "code",
   "execution_count": 14,
   "metadata": {},
   "outputs": [
    {
     "name": "stdout",
     "output_type": "stream",
     "text": [
      "Incremental Network: {(6, 4), (5, 4), (1, 3), (3, 2), (5, 6), (4, 5), (3, 1), (2, 1), (4, 2), (2, 5), (5, 2), (6, 5), (5, 3)}\n",
      "Paths from source to sink:  {(1, 3, 2, 5, 6)}\n",
      "A best path in Gp is  (1, 3, 2, 5, 6)  of minimum cost  0\n",
      "The min capacity on this path is epsilon  2\n",
      "The min cost is  0\n",
      "(1, 2)  flow =  4\n",
      "(5, 4)  flow =  1\n",
      "(1, 3)  flow =  3\n",
      "(4, 6)  flow =  2\n",
      "(5, 6)  flow =  5\n",
      "(2, 3)  flow =  0\n",
      "(2, 5)  flow =  3\n",
      "(2, 4)  flow =  1\n",
      "(3, 5)  flow =  3\n"
     ]
    }
   ],
   "source": [
    "Iterate(G)"
   ]
  },
  {
   "cell_type": "code",
   "execution_count": 15,
   "metadata": {},
   "outputs": [
    {
     "name": "stdout",
     "output_type": "stream",
     "text": [
      "Incremental Network: {(6, 4), (5, 4), (1, 3), (5, 6), (4, 5), (3, 1), (2, 1), (2, 3), (4, 2), (2, 5), (5, 2), (6, 5), (5, 3)}\n",
      "Paths from source to sink:  set()\n",
      "Maximal flow found: 7  with minimal cost  0\n",
      "(1, 2)  flow =  4\n",
      "(5, 4)  flow =  1\n",
      "(1, 3)  flow =  3\n",
      "(4, 6)  flow =  2\n",
      "(5, 6)  flow =  5\n",
      "(2, 3)  flow =  0\n",
      "(2, 5)  flow =  3\n",
      "(2, 4)  flow =  1\n",
      "(3, 5)  flow =  3\n"
     ]
    }
   ],
   "source": [
    "Iterate(G)"
   ]
  },
  {
   "cell_type": "code",
   "execution_count": null,
   "metadata": {},
   "outputs": [],
   "source": []
  },
  {
   "cell_type": "markdown",
   "metadata": {},
   "source": [
    "## Examples 2&3. Define the network `G` and the capacities `c[i][j]` for the given data and follow the same sequence of steps as for example 1. Note that some arcs are two-way"
   ]
  },
  {
   "cell_type": "markdown",
   "metadata": {},
   "source": [
    "# Question 2"
   ]
  },
  {
   "cell_type": "markdown",
   "metadata": {},
   "source": [
    "## (a)"
   ]
  },
  {
   "cell_type": "markdown",
   "metadata": {},
   "source": [
    "## Visualisation\n",
    "\n",
    "I want to be able to visualise the networks that I am creating, so I would like to create a method to do that for me. I'm going to make my own input since the current system of having the capacities and flows are entirely separate arrays from the edges won't suit me here."
   ]
  },
  {
   "cell_type": "code",
   "execution_count": 234,
   "metadata": {},
   "outputs": [
    {
     "data": {
      "image/png": "[encoded data removed]",
      "text/plain": [
       "<Figure size 720x720 with 1 Axes>"
      ]
     },
     "metadata": {},
     "output_type": "display_data"
    }
   ],
   "source": [
    "import networkx as nx\n",
    "import matplotlib.pyplot as plt\n",
    "\n",
    "inp=[('A', 'B', {'capacity': 1, 'flow': 0}),\n",
    "     ('B', 'A', {'capacity': 10, 'flow': 0}),\n",
    "     ('A', 'C', {'capacity': 2, 'flow': 0}),\n",
    "     ('D', 'B', {'capacity': 3, 'flow': 0}),\n",
    "     ('E', 'C', {'capacity': 4, 'flow': 0}),\n",
    "     ('E', 'F', {'capacity': 5, 'flow': 0}),\n",
    "     ('B', 'H', {'capacity': 6, 'flow': 0}),\n",
    "     ('B', 'G', {'capacity': 7, 'flow': 0}),\n",
    "     ('B', 'F', {'capacity': 8, 'flow': 0}),\n",
    "     ('C', 'G', {'capacity': 9, 'flow': 0})]\n",
    "\n",
    "red_edges = [('A', 'C'), ('E', 'C'), ('A', 'B')]\n",
    "\n",
    "pos={}\n",
    "pos['A'] = [0, 0]   # position at left\n",
    "pos['B'] = [1,1]\n",
    "pos['C'] = [1,-1]\n",
    "pos['D'] = [2,1.5]\n",
    "pos['E'] = [2,-1.5]\n",
    "pos['F'] = [3,1]\n",
    "pos['G'] = [3,-1]\n",
    "pos['H'] = [4, 0]     # position at right\n",
    "\n",
    "def visualise(inp, red_edges, pos):\n",
    "    \n",
    "    plt.figure(figsize=(10,10))\n",
    "\n",
    "    edge_labels={}\n",
    "    for x in inp:\n",
    "        edge_labels[(x[0], x[1])] = x[2]['capacity']\n",
    "\n",
    "    G = nx.DiGraph(directed=True)\n",
    "    G.add_edges_from(inp)\n",
    "\n",
    "\n",
    "    val_map = {'A': 1.0,\n",
    "               'H': 1.0}\n",
    "\n",
    "    edge_colours = ['black' if not edge in red_edges else 'red'\n",
    "                    for edge in G.edges()]\n",
    "    black_edges = [edge for edge in G.edges() if edge not in red_edges]\n",
    "\n",
    "    options = {\n",
    "        'node_size': 500,\n",
    "        'width': 50,\n",
    "        'arrowstyle': '-|>',\n",
    "        'arrowsize': 9500,\n",
    "    }\n",
    "\n",
    "    values = [val_map.get(node, 10) for node in G.nodes()]\n",
    "\n",
    "\n",
    "    nx.draw_networkx_nodes(G, pos, cmap=plt.get_cmap('cool'),\n",
    "                           node_color = values, **options)\n",
    "    nx.draw_networkx_labels(G, pos)\n",
    "    nx.draw_networkx_edges(G, pos, edgelist=red_edges, edge_color='r', arrows=True, connectionstyle='arc3,rad=0.09') #connectionstyle='arc3,rad=0.1'\n",
    "    nx.draw_networkx_edges(G, pos, edgelist=black_edges, edge_color='b', arrows=True, connectionstyle='arc3,rad=+0.09')\n",
    "    nx.draw_networkx_edge_labels(G, pos, edge_labels=edge_labels, label_pos=0.7)\n",
    "    plt.show()\n",
    "    \n",
    "visualise(inp, red_edges, pos)"
   ]
  },
  {
   "cell_type": "markdown",
   "metadata": {},
   "source": [
    "This is imperfect, but does allow me to do as I wished. The number closest to the node and edge originates from gives the capacity for that edge i.e. (A, B) has capacity 1 and (B, A) has capacity 10 here. I can also choose to colour some arcs red, so I can use this to display inverse arcs. I've also added a curve to the arcs so inverse arcs don't overlap with normal arcs. Sadly the labels for the edges ignores the curves that I have added to the arcs."
   ]
  },
  {
   "cell_type": "markdown",
   "metadata": {},
   "source": [
    "Anyhow, onwards to the task at hand."
   ]
  },
  {
   "cell_type": "code",
   "execution_count": 35,
   "metadata": {},
   "outputs": [
    {
     "name": "stdout",
     "output_type": "stream",
     "text": [
      "All values of c,phi and l initialised to zero\n",
      "(1, 2)  has flow  0\n",
      "(3, 2)  has flow  0\n",
      "(1, 3)  has flow  0\n",
      "(4, 5)  has flow  0\n",
      "(2, 3)  has flow  0\n",
      "(4, 2)  has flow  0\n",
      "(2, 5)  has flow  0\n",
      "(3, 4)  has flow  0\n",
      "Total Cost is  0\n"
     ]
    }
   ],
   "source": [
    "G={(1,2),(1,3),(2,3),(3,2),(4,2),(2,5),(4,5),(3,4)}\n",
    "Initialise (G)\n",
    "Flows(G)"
   ]
  },
  {
   "cell_type": "code",
   "execution_count": 37,
   "metadata": {},
   "outputs": [],
   "source": [
    "c[1][2] = 2; c[1][3] = 4; c[2][3] = 1  \n",
    "c[3][2] = 4; c[2][5] = 3; c[3][4] = 2\n",
    "c[4][2] = 2; c[4][5] = 3"
   ]
  },
  {
   "cell_type": "code",
   "execution_count": 26,
   "metadata": {},
   "outputs": [
    {
     "name": "stdout",
     "output_type": "stream",
     "text": [
      "Incremental Network: {(1, 2), (3, 2), (1, 3), (2, 3), (4, 5), (4, 2), (2, 5), (3, 4)}\n",
      "Paths from source to sink:  {(1, 3, 4, 2, 5), (1, 2, 3, 4, 5), (1, 3, 2, 5), (1, 2, 5), (1, 3, 4, 5)}\n",
      "A best path in Gp is  (1, 3, 4, 2, 5)  of minimum cost  0\n",
      "The min capacity on this path is epsilon  2\n",
      "The min cost is  0\n",
      "(1, 2)  flow =  0\n",
      "(3, 2)  flow =  0\n",
      "(1, 3)  flow =  2\n",
      "(4, 5)  flow =  0\n",
      "(2, 3)  flow =  0\n",
      "(4, 2)  flow =  2\n",
      "(2, 5)  flow =  2\n",
      "(3, 4)  flow =  2\n"
     ]
    }
   ],
   "source": [
    "Iterate(G)"
   ]
  },
  {
   "cell_type": "markdown",
   "metadata": {},
   "source": [
    "The incremental network generated by this was just the initial network since all flows were zero i.e."
   ]
  },
  {
   "cell_type": "code",
   "execution_count": 227,
   "metadata": {},
   "outputs": [
    {
     "data": {
      "image/png": "[encoded data removed]",
      "text/plain": [
       "<Figure size 720x720 with 1 Axes>"
      ]
     },
     "metadata": {},
     "output_type": "display_data"
    }
   ],
   "source": [
    "inp=[('1', '2', {'capacity': 1, 'flow': 0}),\n",
    "     ('3', '2', {'capacity': 10, 'flow': 0}),\n",
    "     ('1', '3', {'capacity': 2, 'flow': 0}),\n",
    "     ('2', '3', {'capacity': 3, 'flow': 0}),\n",
    "     ('4', '5', {'capacity': 4, 'flow': 0}),\n",
    "     ('4', '2', {'capacity': 5, 'flow': 0}),\n",
    "     ('2', '5', {'capacity': 6, 'flow': 0}),\n",
    "     ('3', '4', {'capacity': 7, 'flow': 0})]\n",
    "\n",
    "red_edges = []\n",
    "\n",
    "pos={}\n",
    "pos['1'] = [0, 0]   # position at left\n",
    "pos['2'] = [1,1]\n",
    "pos['3'] = [1,-1]\n",
    "pos['4'] = [2,-1]\n",
    "pos['5'] = [2.5,1] # position at right\n",
    "\n",
    "visualise(inp, red_edges, pos)"
   ]
  },
  {
   "cell_type": "code",
   "execution_count": 19,
   "metadata": {},
   "outputs": [
    {
     "name": "stdout",
     "output_type": "stream",
     "text": [
      "Incremental Network: {(1, 2), (3, 2), (1, 3), (4, 5), (3, 1), (2, 3), (4, 3), (2, 5), (5, 2), (2, 4)}\n",
      "Paths from source to sink:  {(1, 3, 2, 4, 5), (1, 3, 2, 5), (1, 2, 5), (1, 2, 4, 5)}\n",
      "A best path in Gp is  (1, 3, 2, 4, 5)  of minimum cost  0\n",
      "The min capacity on this path is epsilon  2\n",
      "The min cost is  0\n",
      "(1, 2)  flow =  0\n",
      "(3, 2)  flow =  2\n",
      "(1, 3)  flow =  4\n",
      "(4, 5)  flow =  2\n",
      "(2, 3)  flow =  0\n",
      "(4, 2)  flow =  0\n",
      "(2, 5)  flow =  2\n",
      "(3, 4)  flow =  2\n"
     ]
    }
   ],
   "source": [
    "Iterate(G)"
   ]
  },
  {
   "cell_type": "markdown",
   "metadata": {},
   "source": [
    "So the incremental network was:"
   ]
  },
  {
   "cell_type": "code",
   "execution_count": 228,
   "metadata": {},
   "outputs": [
    {
     "data": {
      "image/png": "[encoded data removed]",
      "text/plain": [
       "<Figure size 720x720 with 1 Axes>"
      ]
     },
     "metadata": {},
     "output_type": "display_data"
    }
   ],
   "source": [
    "inp=[('1', '2', {'capacity': 2, 'flow': 0}),\n",
    "     ('3', '2', {'capacity': 4, 'flow': 0}),\n",
    "     ('1', '3', {'capacity': 2, 'flow': 0}),\n",
    "     ('4', '5', {'capacity': 3, 'flow': 0}),\n",
    "     ('3', '1', {'capacity': 2, 'flow': 0}),\n",
    "     ('2', '3', {'capacity': 1, 'flow': 0}),\n",
    "     ('4', '3', {'capacity': 2, 'flow': 0}),\n",
    "     ('2', '5', {'capacity': 1, 'flow': 0}),\n",
    "     ('5', '2', {'capacity': 2, 'flow': 0}),\n",
    "     ('2', '4', {'capacity': 2, 'flow': 0})]\n",
    "\n",
    "red_edges = [('3', '1'), ('4', '3'), ('2', '4'), ('5','2')]\n",
    "\n",
    "pos={}\n",
    "pos['1'] = [0, 0]   # position at left\n",
    "pos['2'] = [1,1]\n",
    "pos['3'] = [1,-1]\n",
    "pos['4'] = [2,-1]\n",
    "pos['5'] = [2.5,1] # position at right\n",
    "\n",
    "visualise(inp, red_edges, pos)"
   ]
  },
  {
   "cell_type": "code",
   "execution_count": 20,
   "metadata": {},
   "outputs": [
    {
     "name": "stdout",
     "output_type": "stream",
     "text": [
      "Incremental Network: {(1, 2), (3, 2), (5, 4), (4, 5), (3, 1), (2, 3), (4, 3), (4, 2), (2, 5), (5, 2)}\n",
      "Paths from source to sink:  {(1, 2, 5)}\n",
      "A best path in Gp is  (1, 2, 5)  of minimum cost  0\n",
      "The min capacity on this path is epsilon  1\n",
      "The min cost is  0\n",
      "(1, 2)  flow =  1\n",
      "(3, 2)  flow =  2\n",
      "(1, 3)  flow =  4\n",
      "(4, 5)  flow =  2\n",
      "(2, 3)  flow =  0\n",
      "(4, 2)  flow =  0\n",
      "(2, 5)  flow =  3\n",
      "(3, 4)  flow =  2\n"
     ]
    }
   ],
   "source": [
    "Iterate(G)"
   ]
  },
  {
   "cell_type": "markdown",
   "metadata": {},
   "source": [
    "So the incremental network was:"
   ]
  },
  {
   "cell_type": "code",
   "execution_count": 235,
   "metadata": {},
   "outputs": [
    {
     "data": {
      "image/png": "[encoded data removed]",
      "text/plain": [
       "<Figure size 720x720 with 1 Axes>"
      ]
     },
     "metadata": {},
     "output_type": "display_data"
    }
   ],
   "source": [
    "inp=[('1', '2', {'capacity': 2, 'flow': 0}),\n",
    "     ('3', '2', {'capacity': 4, 'flow': 0}),\n",
    "     ('5', '4', {'capacity': 2, 'flow': 0}),\n",
    "     ('4', '5', {'capacity': 3, 'flow': 0}),\n",
    "     ('3', '1', {'capacity': 2, 'flow': 0}),\n",
    "     ('2', '3', {'capacity': 1, 'flow': 0}),\n",
    "     ('4', '3', {'capacity': 2, 'flow': 0}),\n",
    "     ('4', '2', {'capacity': 2, 'flow': 0}),\n",
    "     ('2', '5', {'capacity': 1, 'flow': 0}),\n",
    "     ('5', '2', {'capacity': 2, 'flow': 0})]\n",
    "\n",
    "red_edges = [('3', '1'), ('2', '3'), ('4', '3'), ('5','2'), ('5', '4')]\n",
    "\n",
    "pos={}\n",
    "pos['1'] = [0, 0]   # position at left\n",
    "pos['2'] = [1,1]\n",
    "pos['3'] = [1,-1]\n",
    "pos['4'] = [2,-1]\n",
    "pos['5'] = [2.5,1] # position at right\n",
    "\n",
    "visualise(inp, red_edges, pos)"
   ]
  },
  {
   "cell_type": "code",
   "execution_count": 21,
   "metadata": {},
   "outputs": [
    {
     "name": "stdout",
     "output_type": "stream",
     "text": [
      "Incremental Network: {(1, 2), (3, 2), (5, 4), (4, 5), (3, 1), (2, 1), (2, 3), (4, 3), (4, 2), (5, 2)}\n",
      "Paths from source to sink:  set()\n",
      "Maximal flow found: 5  with minimal cost  0\n",
      "(1, 2)  flow =  1\n",
      "(3, 2)  flow =  2\n",
      "(1, 3)  flow =  4\n",
      "(4, 5)  flow =  2\n",
      "(2, 3)  flow =  0\n",
      "(4, 2)  flow =  0\n",
      "(2, 5)  flow =  3\n",
      "(3, 4)  flow =  2\n"
     ]
    }
   ],
   "source": [
    "Iterate(G)"
   ]
  },
  {
   "cell_type": "markdown",
   "metadata": {},
   "source": [
    "# (b)\n",
    "\n",
    "So the last iteration of the incremental network was:"
   ]
  },
  {
   "cell_type": "code",
   "execution_count": 236,
   "metadata": {},
   "outputs": [
    {
     "data": {
      "image/png": "[encoded data removed]",
      "text/plain": [
       "<Figure size 720x720 with 1 Axes>"
      ]
     },
     "metadata": {},
     "output_type": "display_data"
    }
   ],
   "source": [
    "inp=[('1', '2', {'capacity': 1, 'flow': 0}),\n",
    "     ('3', '2', {'capacity': 4, 'flow': 0}),\n",
    "     ('5', '4', {'capacity': 2, 'flow': 0}),\n",
    "     ('4', '5', {'capacity': 3, 'flow': 0}),\n",
    "     ('3', '1', {'capacity': 2, 'flow': 0}),\n",
    "     ('2', '3', {'capacity': 1, 'flow': 0}),\n",
    "     ('4', '3', {'capacity': 2, 'flow': 0}),\n",
    "     ('4', '2', {'capacity': 2, 'flow': 0}),\n",
    "     ('5', '2', {'capacity': 3, 'flow': 0}),\n",
    "     ('2', '1', {'capacity': 1, 'flow': 0})]\n",
    "\n",
    "red_edges = [('3', '1'), ('2', '3'), ('4', '3'), ('5','2'), ('5', '4'), ('2', '1')]\n",
    "\n",
    "pos={}\n",
    "pos['1'] = [0, 0]   # position at left\n",
    "pos['2'] = [1,1]\n",
    "pos['3'] = [1,-1]\n",
    "pos['4'] = [2,-1]\n",
    "pos['5'] = [2.5,1] # position at right\n",
    "\n",
    "visualise(inp, red_edges, pos)"
   ]
  },
  {
   "cell_type": "markdown",
   "metadata": {},
   "source": [
    "The normal arcs are in blue and the inverted ones are in red."
   ]
  },
  {
   "cell_type": "markdown",
   "metadata": {},
   "source": [
    "# (c)\n",
    "\n",
    "The minimal capacity cut here can be taken by having\n",
    "\n",
    "$P = \\text{{1,2,3}}$ and $\\bar{P} = \\text{{4,5}}$\n",
    "\n",
    "which would give a maximal flow of $3+2=5$ as we found."
   ]
  },
  {
   "cell_type": "markdown",
   "metadata": {},
   "source": [
    "# Question 3"
   ]
  },
  {
   "cell_type": "markdown",
   "metadata": {},
   "source": [
    "# (a)"
   ]
  },
  {
   "cell_type": "code",
   "execution_count": 28,
   "metadata": {},
   "outputs": [
    {
     "name": "stdout",
     "output_type": "stream",
     "text": [
      "All values of c,phi and l initialised to zero\n",
      "(1, 2)  has flow  0\n",
      "(7, 8)  has flow  0\n",
      "(5, 4)  has flow  0\n",
      "(1, 3)  has flow  0\n",
      "(2, 6)  has flow  0\n",
      "(6, 8)  has flow  0\n",
      "(8, 6)  has flow  0\n",
      "(4, 5)  has flow  0\n",
      "(3, 1)  has flow  0\n",
      "(2, 1)  has flow  0\n",
      "(3, 7)  has flow  0\n",
      "(7, 5)  has flow  0\n",
      "(4, 3)  has flow  0\n",
      "(8, 7)  has flow  0\n",
      "(4, 2)  has flow  0\n",
      "(3, 4)  has flow  0\n",
      "(6, 5)  has flow  0\n",
      "Total Cost is  0\n"
     ]
    }
   ],
   "source": [
    "G={(1,2),(2,1),(1,3),(3,1),(4,2),(3,4),(4,3),(4,5),(5,4),(2,6),(6,5),(6,8),(8,6),(7,5),(3,7),(7,8),(8,7)}\n",
    "Initialise (G)\n",
    "Flows(G)"
   ]
  },
  {
   "cell_type": "code",
   "execution_count": 29,
   "metadata": {},
   "outputs": [],
   "source": [
    "c[1][2] = 5; c[2][1] = 5; c[1][3] = 4; c[3][1] = 4\n",
    "c[4][2] = 4; c[3][4] = 5; c[4][3] = 5; c[4][5] = 5\n",
    "c[5][4] = 5; c[2][6] = 3; c[6][5] = 2; c[6][8] = 6\n",
    "c[8][6] = 6; c[7][5] = 4; c[3][7] = 3; c[7][8] = 4\n",
    "c[8][7] = 4"
   ]
  },
  {
   "cell_type": "code",
   "execution_count": 30,
   "metadata": {},
   "outputs": [
    {
     "name": "stdout",
     "output_type": "stream",
     "text": [
      "Incremental Network: {(5, 4), (1, 3), (2, 6), (4, 5), (2, 1), (7, 5), (8, 7), (3, 7), (4, 2), (6, 5), (1, 2), (7, 8), (6, 8), (3, 1), (4, 3), (8, 6), (3, 4)}\n",
      "Paths from source to sink:  {(1, 3, 7, 5, 4, 2, 6, 8), (1, 3, 4, 2, 6, 8), (1, 3, 7, 8), (1, 2, 6, 5, 4, 3, 7, 8), (1, 2, 6, 8)}\n",
      "A best path in Gp is  (1, 3, 7, 5, 4, 2, 6, 8)  of minimum cost  0\n",
      "The min capacity on this path is epsilon  3\n",
      "The min cost is  0\n",
      "(1, 2)  flow =  0\n",
      "(7, 8)  flow =  0\n",
      "(5, 4)  flow =  3\n",
      "(1, 3)  flow =  3\n",
      "(2, 6)  flow =  3\n",
      "(6, 8)  flow =  3\n",
      "(8, 6)  flow =  0\n",
      "(4, 5)  flow =  0\n",
      "(3, 1)  flow =  0\n",
      "(2, 1)  flow =  0\n",
      "(3, 7)  flow =  3\n",
      "(7, 5)  flow =  3\n",
      "(4, 3)  flow =  0\n",
      "(8, 7)  flow =  0\n",
      "(4, 2)  flow =  3\n",
      "(3, 4)  flow =  0\n",
      "(6, 5)  flow =  0\n"
     ]
    }
   ],
   "source": [
    "Iterate(G)"
   ]
  },
  {
   "cell_type": "code",
   "execution_count": 31,
   "metadata": {},
   "outputs": [
    {
     "name": "stdout",
     "output_type": "stream",
     "text": [
      "Incremental Network: {(7, 3), (5, 4), (1, 3), (4, 5), (2, 1), (6, 2), (7, 5), (8, 7), (4, 2), (6, 5), (1, 2), (6, 8), (3, 1), (5, 7), (4, 3), (3, 4), (8, 6), (7, 8), (2, 4)}\n",
      "Paths from source to sink:  {(1, 2, 4, 5, 7, 8), (1, 3, 4, 5, 7, 8)}\n",
      "A best path in Gp is  (1, 2, 4, 5, 7, 8)  of minimum cost  0\n",
      "The min capacity on this path is epsilon  1\n",
      "The min cost is  0\n",
      "(1, 2)  flow =  3\n",
      "(7, 8)  flow =  3\n",
      "(5, 4)  flow =  0\n",
      "(1, 3)  flow =  3\n",
      "(2, 6)  flow =  3\n",
      "(6, 8)  flow =  3\n",
      "(8, 6)  flow =  0\n",
      "(4, 5)  flow =  0\n",
      "(3, 1)  flow =  0\n",
      "(2, 1)  flow =  0\n",
      "(3, 7)  flow =  3\n",
      "(7, 5)  flow =  0\n",
      "(4, 3)  flow =  0\n",
      "(8, 7)  flow =  0\n",
      "(4, 2)  flow =  0\n",
      "(3, 4)  flow =  0\n",
      "(6, 5)  flow =  0\n"
     ]
    }
   ],
   "source": [
    "Iterate(G)"
   ]
  },
  {
   "cell_type": "code",
   "execution_count": 32,
   "metadata": {},
   "outputs": [
    {
     "name": "stdout",
     "output_type": "stream",
     "text": [
      "Incremental Network: {(7, 3), (5, 4), (1, 3), (4, 5), (2, 1), (6, 2), (7, 5), (8, 7), (4, 2), (6, 5), (1, 2), (7, 8), (6, 8), (3, 1), (4, 3), (8, 6), (3, 4)}\n",
      "Paths from source to sink:  set()\n",
      "Maximal flow found: 6  with minimal cost  0\n",
      "(1, 2)  flow =  3\n",
      "(7, 8)  flow =  3\n",
      "(5, 4)  flow =  0\n",
      "(1, 3)  flow =  3\n",
      "(2, 6)  flow =  3\n",
      "(6, 8)  flow =  3\n",
      "(8, 6)  flow =  0\n",
      "(4, 5)  flow =  0\n",
      "(3, 1)  flow =  0\n",
      "(2, 1)  flow =  0\n",
      "(3, 7)  flow =  3\n",
      "(7, 5)  flow =  0\n",
      "(4, 3)  flow =  0\n",
      "(8, 7)  flow =  0\n",
      "(4, 2)  flow =  0\n",
      "(3, 4)  flow =  0\n",
      "(6, 5)  flow =  0\n"
     ]
    }
   ],
   "source": [
    "Iterate(G)"
   ]
  },
  {
   "cell_type": "markdown",
   "metadata": {},
   "source": [
    "The maximal flow is the sum of all flows from the sink as given above i.e. $3+3=6$."
   ]
  },
  {
   "cell_type": "markdown",
   "metadata": {},
   "source": [
    "# (b)"
   ]
  },
  {
   "cell_type": "code",
   "execution_count": 33,
   "metadata": {},
   "outputs": [
    {
     "name": "stdout",
     "output_type": "stream",
     "text": [
      "All values of c,phi and l initialised to zero\n",
      "(8, 3)  has flow  0\n",
      "(5, 4)  has flow  0\n",
      "(2, 6)  has flow  0\n",
      "(8, 2)  has flow  0\n",
      "(7, 1)  has flow  0\n",
      "(4, 5)  has flow  0\n",
      "(2, 8)  has flow  0\n",
      "(6, 1)  has flow  0\n",
      "(3, 7)  has flow  0\n",
      "(3, 8)  has flow  0\n",
      "(7, 5)  has flow  0\n",
      "(1, 6)  has flow  0\n",
      "(4, 3)  has flow  0\n",
      "(1, 7)  has flow  0\n",
      "(4, 2)  has flow  0\n",
      "(3, 4)  has flow  0\n",
      "(6, 5)  has flow  0\n",
      "Total Cost is  0\n"
     ]
    }
   ],
   "source": [
    "G={(8,2),(2,8),(8,3),(3,8),(4,2),(3,4),(4,3),(4,5),(5,4),(2,6),(6,5),(6,1),(1,6),(7,5),(3,7),(7,1),(1,7)}\n",
    "Initialise (G)\n",
    "Flows(G)"
   ]
  },
  {
   "cell_type": "code",
   "execution_count": 34,
   "metadata": {},
   "outputs": [],
   "source": [
    "c[8][2] = 5; c[2][8] = 5; c[8][3] = 4; c[3][8] = 4\n",
    "c[4][2] = 4; c[3][4] = 5; c[4][3] = 5; c[4][5] = 5\n",
    "c[5][4] = 5; c[2][6] = 3; c[6][5] = 2; c[6][1] = 6\n",
    "c[1][6] = 6; c[7][5] = 4; c[3][7] = 3; c[7][1] = 4\n",
    "c[1][7] = 4"
   ]
  },
  {
   "cell_type": "code",
   "execution_count": 35,
   "metadata": {},
   "outputs": [
    {
     "name": "stdout",
     "output_type": "stream",
     "text": [
      "Incremental Network: {(5, 4), (2, 6), (8, 2), (7, 1), (4, 5), (2, 8), (7, 5), (1, 6), (4, 2), (3, 7), (6, 5), (8, 3), (6, 1), (3, 8), (4, 3), (1, 7), (3, 4)}\n",
      "Paths from source to sink:  {(1, 6, 5, 4, 3, 8), (1, 6, 5, 4, 2, 8), (1, 7, 5, 4, 2, 8), (1, 7, 5, 4, 3, 8)}\n",
      "A best path in Gp is  (1, 6, 5, 4, 3, 8)  of minimum cost  0\n",
      "The min capacity on this path is epsilon  4\n",
      "The min cost is  0\n",
      "(8, 3)  flow =  0\n",
      "(5, 4)  flow =  2\n",
      "(2, 6)  flow =  0\n",
      "(8, 2)  flow =  0\n",
      "(7, 1)  flow =  0\n",
      "(4, 5)  flow =  0\n",
      "(2, 8)  flow =  0\n",
      "(6, 1)  flow =  0\n",
      "(3, 7)  flow =  0\n",
      "(3, 8)  flow =  2\n",
      "(7, 5)  flow =  0\n",
      "(1, 6)  flow =  2\n",
      "(4, 3)  flow =  2\n",
      "(1, 7)  flow =  0\n",
      "(4, 2)  flow =  0\n",
      "(3, 4)  flow =  0\n",
      "(6, 5)  flow =  2\n"
     ]
    }
   ],
   "source": [
    "Iterate(G)"
   ]
  },
  {
   "cell_type": "code",
   "execution_count": 36,
   "metadata": {},
   "outputs": [
    {
     "name": "stdout",
     "output_type": "stream",
     "text": [
      "Incremental Network: {(5, 4), (2, 6), (8, 2), (7, 1), (4, 5), (2, 8), (5, 6), (7, 5), (1, 6), (4, 2), (3, 7), (8, 3), (6, 1), (3, 8), (4, 3), (1, 7), (3, 4)}\n",
      "Paths from source to sink:  {(1, 7, 5, 4, 2, 8), (1, 7, 5, 4, 3, 8)}\n",
      "A best path in Gp is  (1, 7, 5, 4, 2, 8)  of minimum cost  0\n",
      "The min capacity on this path is epsilon  2\n",
      "The min cost is  0\n",
      "(8, 3)  flow =  0\n",
      "(5, 4)  flow =  5\n",
      "(2, 6)  flow =  0\n",
      "(8, 2)  flow =  0\n",
      "(7, 1)  flow =  0\n",
      "(4, 5)  flow =  0\n",
      "(2, 8)  flow =  3\n",
      "(6, 1)  flow =  0\n",
      "(3, 7)  flow =  0\n",
      "(3, 8)  flow =  2\n",
      "(7, 5)  flow =  3\n",
      "(1, 6)  flow =  2\n",
      "(4, 3)  flow =  2\n",
      "(1, 7)  flow =  3\n",
      "(4, 2)  flow =  3\n",
      "(3, 4)  flow =  0\n",
      "(6, 5)  flow =  2\n"
     ]
    }
   ],
   "source": [
    "Iterate(G)"
   ]
  },
  {
   "cell_type": "code",
   "execution_count": 37,
   "metadata": {},
   "outputs": [
    {
     "name": "stdout",
     "output_type": "stream",
     "text": [
      "Incremental Network: {(2, 6), (8, 2), (7, 1), (4, 5), (2, 8), (5, 6), (7, 5), (1, 6), (4, 2), (3, 7), (8, 3), (6, 1), (5, 7), (3, 8), (4, 3), (1, 7), (3, 4), (2, 4)}\n",
      "Paths from source to sink:  set()\n",
      "Maximal flow found: 5  with minimal cost  0\n",
      "(8, 3)  flow =  0\n",
      "(5, 4)  flow =  5\n",
      "(2, 6)  flow =  0\n",
      "(8, 2)  flow =  0\n",
      "(7, 1)  flow =  0\n",
      "(4, 5)  flow =  0\n",
      "(2, 8)  flow =  3\n",
      "(6, 1)  flow =  0\n",
      "(3, 7)  flow =  0\n",
      "(3, 8)  flow =  2\n",
      "(7, 5)  flow =  3\n",
      "(1, 6)  flow =  2\n",
      "(4, 3)  flow =  2\n",
      "(1, 7)  flow =  3\n",
      "(4, 2)  flow =  3\n",
      "(3, 4)  flow =  0\n",
      "(6, 5)  flow =  2\n"
     ]
    }
   ],
   "source": [
    "Iterate(G)"
   ]
  },
  {
   "cell_type": "markdown",
   "metadata": {},
   "source": [
    "So, the maximal flow is the sum of all flows from the sink. That is, $2+3=5$. We thus find that the flow is less when we go from B to A rather than from A to B. This difference is not surprising considering that we have a directional graph."
   ]
  }
 ],
 "metadata": {
  "kernelspec": {
   "display_name": "Python 3",
   "language": "python",
   "name": "python3"
  },
  "language_info": {
   "codemirror_mode": {
    "name": "ipython",
    "version": 3
   },
   "file_extension": ".py",
   "mimetype": "text/x-python",
   "name": "python",
   "nbconvert_exporter": "python",
   "pygments_lexer": "ipython3",
   "version": "3.7.6"
  }
 },
 "nbformat": 4,
 "nbformat_minor": 4
}
